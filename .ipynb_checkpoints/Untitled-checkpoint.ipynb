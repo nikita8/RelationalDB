{
 "cells": [
  {
   "cell_type": "code",
   "execution_count": null,
   "metadata": {},
   "outputs": [
    {
     "name": "stdout",
     "output_type": "stream",
     "text": [
      "Enter the name of the table/ Type quit to exit: abc\n",
      "Enter single character table Attribute name / Type quit to exit (Eg: A): a\n",
      "Enter the type of attribute A: 1: 'string' and 2: 'int'):1\n",
      "Enter single character table Attribute name / Type quit to exit (Eg: A): b\n",
      "Enter the type of attribute B: 1: 'string' and 2: 'int'):2\n",
      "Enter single character table Attribute name / Type quit to exit (Eg: A): c\n",
      "Enter the type of attribute C: 1: 'string' and 2: 'int'):1\n",
      "Enter single character table Attribute name / Type quit to exit (Eg: A): quit\n",
      "Enter list of constraints / Type 'quit' to exit (Attribute op Val) Eg: A > 5:\n",
      "a==hm\n",
      "b>10\n",
      "b>20\n",
      "quit\n",
      "Checking for conflicting Boolean conditions...\n",
      "**Same attribute cannot have different values  B>10 and  B>20\n",
      "**Following are the conflicting boolean contraints:\n",
      "{'B>20', 'B>10'}\n",
      "Removing those from boolean constraints list...\n",
      "Boolean Constraints: ['A==HM']\n",
      "Do you want to add new boolean constraints(yes/no)?yes\n",
      "Enter list of constraints / Type 'quit' to exit (Attribute op Val) Eg: A > 5:\n",
      "a<>hm\n",
      "c<>cs\n",
      "quit\n",
      "Checking for conflicting Boolean conditions...\n",
      "**Conflicting boolean constraints:  A<>HM and  A==HM\n",
      "**Following are the conflicting boolean contraints:\n",
      "{'A<>HM', 'A==HM'}\n",
      "Removing those from boolean constraints list...\n",
      "Boolean Constraints: ['C<>CS']\n",
      "Do you want to add new boolean constraints(yes/no)?no\n",
      "Enter Foreign Constraint:-\n",
      "Enter as 'column name:table name' (eg- A:ABC) / Type quit to exit: \n"
     ]
    }
   ],
   "source": [
    "from input_data import *"
   ]
  },
  {
   "cell_type": "code",
   "execution_count": null,
   "metadata": {},
   "outputs": [],
   "source": []
  }
 ],
 "metadata": {
  "kernelspec": {
   "display_name": "Python 3",
   "language": "python",
   "name": "python3"
  },
  "language_info": {
   "codemirror_mode": {
    "name": "ipython",
    "version": 3
   },
   "file_extension": ".py",
   "mimetype": "text/x-python",
   "name": "python",
   "nbconvert_exporter": "python",
   "pygments_lexer": "ipython3",
   "version": "3.7.4"
  }
 },
 "nbformat": 4,
 "nbformat_minor": 2
}
